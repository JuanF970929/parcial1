{
  "nbformat": 4,
  "nbformat_minor": 0,
  "metadata": {
    "colab": {
      "provenance": [],
      "authorship_tag": "ABX9TyMs9OhrKnW/psGzKdkEuzj5",
      "include_colab_link": true
    },
    "kernelspec": {
      "name": "python3",
      "display_name": "Python 3"
    },
    "language_info": {
      "name": "python"
    }
  },
  "cells": [
    {
      "cell_type": "markdown",
      "metadata": {
        "id": "view-in-github",
        "colab_type": "text"
      },
      "source": [
        "<a href=\"https://colab.research.google.com/github/JuanF970929/parcial1/blob/main/EJERCIIOS_PARCIAL.ipynb\" target=\"_parent\"><img src=\"https://colab.research.google.com/assets/colab-badge.svg\" alt=\"Open In Colab\"/></a>"
      ]
    },
    {
      "cell_type": "markdown",
      "source": [
        "JUAN FERNADO MARIN / JUAN DAVID RODRIGUEZ\n",
        "\n",
        "\n",
        "PARCIAL FUNDAMENTOS DE PROGRAMACION\n"
      ],
      "metadata": {
        "id": "v1_M8Cgyozi0"
      }
    },
    {
      "cell_type": "code",
      "source": [],
      "metadata": {
        "id": "UP84zxwqngpS"
      },
      "execution_count": null,
      "outputs": []
    },
    {
      "cell_type": "code",
      "source": [
        "Vm = 0\n",
        "Vi = 0\n",
        "Vf = 0\n",
        "A = 0\n",
        "t = 0\n",
        "Ti = 0\n",
        "Tf = 0\n",
        "Am = 0\n",
        "d = 0\n",
        "Vf2 = 0\n",
        "\n",
        "print(\"Ingrese vi: \")\n",
        "Vi = float(input())\n",
        "print(\"Ingrese Vf: \")\n",
        "Vf = float(input())\n",
        "print(\"Ingrese t: \")\n",
        "t = float(input())\n",
        "print(\"Ingrese tiempo inicial: \")\n",
        "Ti = float(input())\n",
        "print(\"Ingrese tiempo final: \")\n",
        "Tf = float(input())\n",
        "\n",
        "Vm = (Vf + Vi) / 2\n",
        "print(\"La velocidad media es: \", Vm)\n",
        "\n",
        "A = (Vf - Vi) / t\n",
        "print(\"La aceleración es: \", A)\n",
        "\n",
        "Am = (Vf - Vi) / (Tf - Ti)\n",
        "print(\"La aceleración media es: \", Am)\n",
        "\n",
        "Vf = Vi + (A * t)\n",
        "print(\"La velocidad final es: \", Vf)\n",
        "\n",
        "d = Vm * t\n",
        "print(\"La distancia es: \", d)\n",
        "\n",
        "Vf2 = Vi ** 2 + 2 * (A * d)\n",
        "print(\"La velocidad final al cuadrado es: \", Vf2)"
      ],
      "metadata": {
        "id": "ad8ID14K-3KY"
      },
      "execution_count": null,
      "outputs": []
    },
    {
      "cell_type": "code",
      "source": [
        "ABSCISA_X = float(input(\"Ingrese el valor de abscisa x: \"))\n",
        "ORDENADA_Y = float(input(\"Ingrese el valor de ordenada y: \"))\n",
        "\n",
        "if ABSCISA_X > 0 and ORDENADA_Y > 0:\n",
        "    print(\"Las coordenadas pertenecen al primer cuadrante\")\n",
        "elif ABSCISA_X < 0 and ORDENADA_Y > 0:\n",
        "    print(\"Las coordenadas pertenecen al segundo cuadrante\")\n",
        "elif ABSCISA_X < 0 and ORDENADA_Y < 0:\n",
        "    print(\"Las coordenadas pertenecen al tercer cuadrante\")\n",
        "elif ABSCISA_X > 0 and ORDENADA_Y < 0:\n",
        "    print(\"Las coordenadas pertenecen al cuarto cuadrante\")"
      ],
      "metadata": {
        "id": "YF1Ud-u1pFXy"
      },
      "execution_count": null,
      "outputs": []
    }
  ]
}